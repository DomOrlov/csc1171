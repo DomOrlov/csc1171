{
 "cells": [
  {
   "cell_type": "code",
   "execution_count": 132,
   "id": "f125d3ae",
   "metadata": {},
   "outputs": [],
   "source": [
    "import pandas as pd\n",
    "import statsmodels.api as sm\n",
    "import os\n",
    "from statsmodels.stats.outliers_influence import variance_inflation_factor"
   ]
  },
  {
   "cell_type": "code",
   "execution_count": 133,
   "id": "dd80300e",
   "metadata": {},
   "outputs": [],
   "source": [
    "# print(\"Current working directory:\", os.getcwd())\n",
    "\n",
    "df = pd.read_csv(\"data.csv\", parse_dates=[\"Date\"]) #opent the data file\n",
    "df = df.dropna(subset=[\"Return\"])  # drop missing returns if there is any left"
   ]
  },
  {
   "cell_type": "markdown",
   "id": "d0e614e3",
   "metadata": {},
   "source": [
    "usefull date data"
   ]
  },
  {
   "cell_type": "code",
   "execution_count": 134,
   "id": "1a66c40b",
   "metadata": {},
   "outputs": [],
   "source": [
    "################# setting up what dates give us\n",
    "df[\"DayOfWeek\"] = df[\"Date\"].dt.dayofweek        # 0 = Monday, 6 = Sunday\n",
    "df[\"IsWeekend\"] = df[\"DayOfWeek\"].isin([5, 6]).astype(int)\n",
    "\n",
    "df[\"Month\"] = df[\"Date\"].dt.month                # 1 = January, 0 = Others\n",
    "df[\"IsJanuary\"] = (df[\"Month\"] == 1).astype(int)\n",
    "\n",
    "df[\"Day\"] = df[\"Date\"].dt.day\n",
    "df[\"IsMonthStart\"] = (df[\"Day\"] <= 3).astype(int)  # e.g. first 3 days of month\n",
    "\n",
    "df[\"DayOfYear\"] = df[\"Date\"].dt.dayofyear       # 1 = Jan 1, 365/366 = Dec 31"
   ]
  },
  {
   "cell_type": "markdown",
   "id": "723b1f61",
   "metadata": {},
   "source": [
    " OLS Regression"
   ]
  },
  {
   "cell_type": "code",
   "execution_count": 135,
   "id": "7f060735",
   "metadata": {},
   "outputs": [
    {
     "name": "stdout",
     "output_type": "stream",
     "text": [
      "                            OLS Regression Results                            \n",
      "==============================================================================\n",
      "Dep. Variable:                 Return   R-squared:                       0.000\n",
      "Model:                            OLS   Adj. R-squared:                 -0.001\n",
      "Method:                 Least Squares   F-statistic:                    0.1522\n",
      "Date:                Sat, 01 Nov 2025   Prob (F-statistic):              0.928\n",
      "Time:                        05:55:21   Log-Likelihood:                 10398.\n",
      "No. Observations:                4839   AIC:                        -2.079e+04\n",
      "Df Residuals:                    4835   BIC:                        -2.076e+04\n",
      "Df Model:                           3                                         \n",
      "Covariance Type:            nonrobust                                         \n",
      "================================================================================\n",
      "                   coef    std err          t      P>|t|      [0.025      0.975]\n",
      "--------------------------------------------------------------------------------\n",
      "const            0.0004      0.001      0.410      0.681      -0.002       0.002\n",
      "IsWeekend     1.201e-17   2.76e-17      0.436      0.663    -4.2e-17     6.6e-17\n",
      "IsJanuary        0.0007      0.002      0.426      0.670      -0.003       0.004\n",
      "IsMonthStart    -0.0002      0.001     -0.179      0.858      -0.003       0.002\n",
      "DayOfYear    -1.023e-06   4.42e-06     -0.231      0.817    -9.7e-06    7.65e-06\n",
      "==============================================================================\n",
      "Omnibus:                     4467.059   Durbin-Watson:                   1.824\n",
      "Prob(Omnibus):                  0.000   Jarque-Bera (JB):          1158820.454\n",
      "Skew:                           3.718   Prob(JB):                         0.00\n",
      "Kurtosis:                      78.446   Cond. No.                     1.38e+19\n",
      "==============================================================================\n",
      "\n",
      "Notes:\n",
      "[1] Standard Errors assume that the covariance matrix of the errors is correctly specified.\n",
      "[2] The smallest eigenvalue is 1.12e-30. This might indicate that there are\n",
      "strong multicollinearity problems or that the design matrix is singular.\n"
     ]
    }
   ],
   "source": [
    "#Set up OLS regression\n",
    "# X = df[[\"IsWeekend\", \"IsJanuary\", \"IsMonthStart\", \"Month\", \"Day\", \"DayOfYear\"]]  #cant do this one cause a lot of multicollinearity appears\n",
    "X = df[[\"IsWeekend\", \"IsJanuary\", \"IsMonthStart\", \"DayOfYear\"]] \n",
    "X = sm.add_constant(X)\n",
    "y = df[\"Return\"]\n",
    "\n",
    "model = sm.OLS(y, X).fit()\n",
    "print(model.summary())"
   ]
  },
  {
   "cell_type": "markdown",
   "id": "03fd93e6",
   "metadata": {},
   "source": [
    "Durbin-Watson for OLS"
   ]
  },
  {
   "cell_type": "code",
   "execution_count": 136,
   "id": "f52c6d4e",
   "metadata": {},
   "outputs": [
    {
     "name": "stdout",
     "output_type": "stream",
     "text": [
      "Durbin-Watson statistic: 1.8243988991614501\n",
      "About 2 is good\n"
     ]
    }
   ],
   "source": [
    "from statsmodels.stats.stattools import durbin_watson\n",
    "\n",
    "# Assuming 'ols_model' is your fitted OLS model\n",
    "dw_stat = durbin_watson(model.resid)\n",
    "print(\"Durbin-Watson statistic:\", dw_stat)\n",
    "print(\"About 2 is good\")\n"
   ]
  },
  {
   "cell_type": "markdown",
   "id": "70de80c2",
   "metadata": {},
   "source": [
    "Variance Inflation Factor (VIF) checks for multicollinearity among the predictors in OLS."
   ]
  },
  {
   "cell_type": "code",
   "execution_count": 137,
   "id": "54fd8f8f",
   "metadata": {},
   "outputs": [
    {
     "name": "stdout",
     "output_type": "stream",
     "text": [
      "everything < 10 is good:\n",
      "        feature       VIF\n",
      "0         const  5.912864\n",
      "1     IsWeekend       NaN\n",
      "2     IsJanuary  1.288424\n",
      "3  IsMonthStart  1.003648\n",
      "4     DayOfYear  1.288547\n"
     ]
    },
    {
     "name": "stderr",
     "output_type": "stream",
     "text": [
      "c:\\Users\\supro\\AppData\\Local\\Programs\\Python\\Python313\\Lib\\site-packages\\statsmodels\\regression\\linear_model.py:1782: RuntimeWarning: invalid value encountered in scalar divide\n",
      "  return 1 - self.ssr/self.centered_tss\n"
     ]
    }
   ],
   "source": [
    "vif_data = pd.DataFrame()\n",
    "vif_data[\"feature\"] = X.columns\n",
    "vif_data[\"VIF\"] = [variance_inflation_factor(X.values, i) for i in range(X.shape[1])]\n",
    "print(\"everything < 10 is good:\")\n",
    "print(vif_data)\n"
   ]
  },
  {
   "cell_type": "markdown",
   "id": "3eec59fd",
   "metadata": {},
   "source": [
    "Logit (does same stuff as OLS but with binary output)"
   ]
  },
  {
   "cell_type": "code",
   "execution_count": 138,
   "id": "22d44b3e",
   "metadata": {},
   "outputs": [
    {
     "name": "stdout",
     "output_type": "stream",
     "text": [
      "Optimization terminated successfully.\n",
      "         Current function value: 0.690707\n",
      "         Iterations 3\n",
      "                           Logit Regression Results                           \n",
      "==============================================================================\n",
      "Dep. Variable:        Return_Positive   No. Observations:                 4839\n",
      "Model:                          Logit   Df Residuals:                     4835\n",
      "Method:                           MLE   Df Model:                            3\n",
      "Date:                Sat, 01 Nov 2025   Pseudo R-squ.:               0.0005407\n",
      "Time:                        05:55:21   Log-Likelihood:                -3342.3\n",
      "converged:                       True   LL-Null:                       -3344.1\n",
      "Covariance Type:            nonrobust   LLR p-value:                    0.3060\n",
      "================================================================================\n",
      "                   coef    std err          z      P>|z|      [0.025      0.975]\n",
      "--------------------------------------------------------------------------------\n",
      "const           -0.0421      0.070     -0.602      0.547      -0.179       0.095\n",
      "DayOfYear       -0.0005      0.000     -1.588      0.112      -0.001       0.000\n",
      "IsMonthStart     0.0453      0.098      0.460      0.646      -0.148       0.238\n",
      "IsJanuary        0.0060      0.121      0.050      0.960      -0.230       0.242\n",
      "================================================================================\n"
     ]
    }
   ],
   "source": [
    "# 1 if return is positive, 0 if return is zero or negative\n",
    "df[\"Return_Positive\"] = (df[\"Return\"] > 0).astype(int)\n",
    "\n",
    "# Set up X and y\n",
    "# X_logit = sm.add_constant(df[[\"DayOfYear\"]])  # add intercept\n",
    "X_logit = df[[\"DayOfYear\", \"IsMonthStart\", \"IsJanuary\"]] #cant cant add more cause a lot of multicollinearity appears\n",
    "X_logit = sm.add_constant(X_logit)  # add intercept\n",
    "y = df[\"Return_Positive\"]\n",
    "\n",
    "# Fit Logit\n",
    "logit_model = sm.Logit(y, X_logit).fit()\n",
    "print(logit_model.summary())"
   ]
  },
  {
   "cell_type": "markdown",
   "id": "657c362e",
   "metadata": {},
   "source": [
    "Variance Inflation Factor (VIF) checks for multicollinearity among the predictors in Logit."
   ]
  },
  {
   "cell_type": "code",
   "execution_count": null,
   "id": "cbc5f8ea",
   "metadata": {},
   "outputs": [
    {
     "name": "stdout",
     "output_type": "stream",
     "text": [
      "everything < 10 is good:\n",
      "        feature       VIF\n",
      "0         const  5.912864\n",
      "1     DayOfYear  1.288547\n",
      "2  IsMonthStart  1.003648\n",
      "3     IsJanuary  1.288424\n"
     ]
    }
   ],
   "source": [
    "vif_data = pd.DataFrame()\n",
    "vif_data[\"feature\"] = X_logit.columns\n",
    "vif_data[\"VIF\"] = [variance_inflation_factor(X_logit.values, i) for i in range(X_logit.shape[1])]\n",
    "print(\"everything < 10 is good:\")\n",
    "print(vif_data)"
   ]
  }
 ],
 "metadata": {
  "kernelspec": {
   "display_name": "Python 3",
   "language": "python",
   "name": "python3"
  },
  "language_info": {
   "codemirror_mode": {
    "name": "ipython",
    "version": 3
   },
   "file_extension": ".py",
   "mimetype": "text/x-python",
   "name": "python",
   "nbconvert_exporter": "python",
   "pygments_lexer": "ipython3",
   "version": "3.13.2"
  }
 },
 "nbformat": 4,
 "nbformat_minor": 5
}
