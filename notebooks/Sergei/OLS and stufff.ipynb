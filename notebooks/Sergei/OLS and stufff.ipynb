{
 "cells": [
  {
   "cell_type": "code",
   "execution_count": null,
   "id": "0",
   "metadata": {},
   "outputs": [],
   "source": [
    "import pandas as pd\n",
    "import statsmodels.api as sm\n",
    "import os\n",
    "from statsmodels.stats.outliers_influence import variance_inflation_factor"
   ]
  },
  {
   "cell_type": "code",
   "execution_count": null,
   "id": "1",
   "metadata": {},
   "outputs": [],
   "source": [
    "# print(\"Current working directory:\", os.getcwd())\n",
    "\n",
    "df = pd.read_csv(\"data.csv\", parse_dates=[\"Date\"]) #opent the data file\n",
    "df = df.dropna(subset=[\"Return\"])  # drop missing returns if there is any left"
   ]
  },
  {
   "cell_type": "markdown",
   "id": "2",
   "metadata": {},
   "source": [
    "usefull date data"
   ]
  },
  {
   "cell_type": "code",
   "execution_count": null,
   "id": "3",
   "metadata": {},
   "outputs": [],
   "source": [
    "################# setting up what dates give us\n",
    "df[\"DayOfWeek\"] = df[\"Date\"].dt.dayofweek        # 0 = Monday, 6 = Sunday\n",
    "df[\"IsWeekend\"] = df[\"DayOfWeek\"].isin([5, 6]).astype(int)\n",
    "\n",
    "df[\"Month\"] = df[\"Date\"].dt.month                # 1 = January, 0 = Others\n",
    "df[\"IsJanuary\"] = (df[\"Month\"] == 1).astype(int)\n",
    "\n",
    "df[\"Day\"] = df[\"Date\"].dt.day\n",
    "df[\"IsMonthStart\"] = (df[\"Day\"] <= 3).astype(int)  # e.g. first 3 days of month\n",
    "\n",
    "df[\"DayOfYear\"] = df[\"Date\"].dt.dayofyear       # 1 = Jan 1, 365/366 = Dec 31"
   ]
  },
  {
   "cell_type": "markdown",
   "id": "4",
   "metadata": {},
   "source": [
    " OLS Regression"
   ]
  },
  {
   "cell_type": "code",
   "execution_count": null,
   "id": "5",
   "metadata": {},
   "outputs": [],
   "source": [
    "#Set up OLS regression\n",
    "# X = df[[\"IsWeekend\", \"IsJanuary\", \"IsMonthStart\", \"Month\", \"Day\", \"DayOfYear\"]]  #cant do this one cause a lot of multicollinearity appears\n",
    "X = df[[\"IsWeekend\", \"IsJanuary\", \"IsMonthStart\", \"DayOfYear\"]] \n",
    "X = sm.add_constant(X)\n",
    "y = df[\"Return\"]\n",
    "\n",
    "model = sm.OLS(y, X).fit()\n",
    "print(model.summary())"
   ]
  },
  {
   "cell_type": "markdown",
   "id": "6",
   "metadata": {},
   "source": [
    "Durbin-Watson for OLS"
   ]
  },
  {
   "cell_type": "code",
   "execution_count": null,
   "id": "7",
   "metadata": {},
   "outputs": [],
   "source": [
    "from statsmodels.stats.stattools import durbin_watson\n",
    "\n",
    "# Assuming 'ols_model' is your fitted OLS model\n",
    "dw_stat = durbin_watson(model.resid)\n",
    "print(\"Durbin-Watson statistic:\", dw_stat)\n",
    "print(\"About 2 is good\")\n"
   ]
  },
  {
   "cell_type": "markdown",
   "id": "8",
   "metadata": {},
   "source": [
    "Variance Inflation Factor (VIF) checks for multicollinearity among the predictors in OLS."
   ]
  },
  {
   "cell_type": "code",
   "execution_count": null,
   "id": "9",
   "metadata": {},
   "outputs": [],
   "source": [
    "vif_data = pd.DataFrame()\n",
    "vif_data[\"feature\"] = X.columns\n",
    "vif_data[\"VIF\"] = [variance_inflation_factor(X.values, i) for i in range(X.shape[1])]\n",
    "print(\"everything < 10 is good:\")\n",
    "print(vif_data)\n"
   ]
  },
  {
   "cell_type": "markdown",
   "id": "10",
   "metadata": {},
   "source": [
    "Logit (does same stuff as OLS but with binary output)"
   ]
  },
  {
   "cell_type": "code",
   "execution_count": null,
   "id": "11",
   "metadata": {},
   "outputs": [],
   "source": [
    "# 1 if return is positive, 0 if return is zero or negative\n",
    "df[\"Return_Positive\"] = (df[\"Return\"] > 0).astype(int)\n",
    "\n",
    "# Set up X and y\n",
    "# X_logit = sm.add_constant(df[[\"DayOfYear\"]])  # add intercept\n",
    "X_logit = df[[\"DayOfYear\", \"IsMonthStart\", \"IsJanuary\"]] #cant cant add more cause a lot of multicollinearity appears\n",
    "X_logit = sm.add_constant(X_logit)  # add intercept\n",
    "y = df[\"Return_Positive\"]\n",
    "\n",
    "# Fit Logit\n",
    "logit_model = sm.Logit(y, X_logit).fit()\n",
    "print(logit_model.summary())"
   ]
  },
  {
   "cell_type": "markdown",
   "id": "12",
   "metadata": {},
   "source": [
    "Variance Inflation Factor (VIF) checks for multicollinearity among the predictors in Logit."
   ]
  },
  {
   "cell_type": "code",
   "execution_count": null,
   "id": "13",
   "metadata": {},
   "outputs": [],
   "source": [
    "vif_data = pd.DataFrame()\n",
    "vif_data[\"feature\"] = X_logit.columns\n",
    "vif_data[\"VIF\"] = [variance_inflation_factor(X_logit.values, i) for i in range(X_logit.shape[1])]\n",
    "print(\"everything < 10 is good:\")\n",
    "print(vif_data)"
   ]
  }
 ],
 "metadata": {
  "kernelspec": {
   "display_name": "Python 3",
   "language": "python",
   "name": "python3"
  },
  "language_info": {
   "codemirror_mode": {
    "name": "ipython",
    "version": 3
   },
   "file_extension": ".py",
   "mimetype": "text/x-python",
   "name": "python",
   "nbconvert_exporter": "python",
   "pygments_lexer": "ipython3",
   "version": "3.13.2"
  }
 },
 "nbformat": 4,
 "nbformat_minor": 5
}
