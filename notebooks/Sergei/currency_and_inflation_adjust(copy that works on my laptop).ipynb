{
 "cells": [
  {
   "cell_type": "markdown",
   "metadata": {
    "id": "P0LwYW8YtuBR"
   },
   "source": [
    "**Standardize the file**"
   ]
  },
  {
   "cell_type": "markdown",
   "metadata": {
    "id": "yAn3jlvqYB3g"
   },
   "source": [
    "*Installing and calling the necessary libraries*"
   ]
  },
  {
   "cell_type": "code",
   "execution_count": null,
   "metadata": {
    "id": "6nU8TJ4zXuAv"
   },
   "outputs": [],
   "source": [
    "!pip install pandas-datareader --quiet"
   ]
  },
  {
   "cell_type": "code",
   "execution_count": null,
   "metadata": {
    "id": "Iz6ehwu7Xvw5"
   },
   "outputs": [],
   "source": [
    "import pandas as pd\n",
    "import numpy as np\n",
    "import yfinance as yf\n",
    "from pandas_datareader.data import DataReader\n",
    "from scipy.stats import chi2\n",
    "from datetime import timedelta"
   ]
  },
  {
   "cell_type": "markdown",
   "metadata": {
    "id": "ersFQCPoYOnY"
   },
   "source": [
    "Importing the CSV file containing the information about each asset analyze for adjusting, including the name of the asset (for stocks indicating which market they come from), and the currency they have"
   ]
  },
  {
   "cell_type": "code",
   "execution_count": null,
   "metadata": {
    "id": "_ykhK_zHYjl2"
   },
   "outputs": [],
   "source": [
    "market_info = pd.read_csv(\"clean_company_listings.csv\")\n",
    "market_info.columns = market_info.columns.str.strip()\n",
    "market_currency_map = {\n",
    "    'NASDAQ': 'USD',\n",
    "    'NYSE': 'USD',\n",
    "    'London Stock Exchange': 'GBP',\n",
    "    'LSE': 'GBP',\n",
    "    'Tokyo Stock Exchange': 'JPY',\n",
    "    'TSE': 'JPY',\n",
    "    'Shanghai Stock Exchange': 'CNY',\n",
    "    'SSE': 'CNY',\n",
    "    'Hong Kong Stock Exchange': 'HKD',\n",
    "    'HKEX': 'HKD',\n",
    "    'Toronto Stock Exchange': 'CAD',\n",
    "    'TSX': 'CAD',\n",
    "    'Australian Securities Exchange': 'AUD',\n",
    "    'ASX': 'AUD',\n",
    "    'Euronext': 'EUR',\n",
    "    'Frankfurt Stock Exchange': 'EUR',\n",
    "    'FWB': 'EUR',\n",
    "}\n",
    "\n",
    "market_info['Currency'] = market_info['stock offering'].map(market_currency_map)\n",
    "market_info['Currency'] = market_info['Currency'].fillna('Unknown')\n",
    "print(market_info.head())"
   ]
  },
  {
   "cell_type": "markdown",
   "metadata": {
    "id": "5J_Dtw_6YmcF"
   },
   "source": [
    "Defining a function that get, for the currency specified in the assets_markets_file, the correct exchange rate to convert, if needed, to USD and convert"
   ]
  },
  {
   "cell_type": "code",
   "execution_count": null,
   "metadata": {
    "id": "H35XnefGYly8"
   },
   "outputs": [],
   "source": [
    "def get_exchange_rate(currency, start_date, end_date):\n",
    "    \"\"\"Get daily exchange rate to USD, safely handling missing data.\"\"\"\n",
    "    # If already in USD, no conversion needed\n",
    "    if currency.upper() == 'USD':\n",
    "        dates = pd.date_range(start=start_date, end=end_date)\n",
    "        return pd.DataFrame({'Date': dates, 'Rate_to_USD': [1.0] * len(dates)})\n",
    "\n",
    "    symbol = f\"{currency}USD=X\"\n",
    "    print(f\"Fetching exchange rate for {symbol}...\")\n",
    "\n",
    "    try:\n",
    "        data = yf.download(symbol, start=start_date, end=end_date)\n",
    "    except Exception as e:\n",
    "        print(f\"⚠️ Failed to download {symbol}: {e}\")\n",
    "        data = pd.DataFrame()\n",
    "\n",
    "    # Handle empty or invalid downloads gracefully\n",
    "    if data.empty or 'Close' not in data.columns:\n",
    "        print(f\"⚠️ No valid data for {symbol}. Using 1.0 as fallback rate.\")\n",
    "        dates = pd.date_range(start=start_date, end=end_date)\n",
    "        return pd.DataFrame({'Date': dates, 'Rate_to_USD': [1.0] * len(dates)})\n",
    "\n",
    "    # Prepare the result\n",
    "    data = data.reset_index()[['Date', 'Close']].rename(columns={'Close': 'Rate_to_USD'})\n",
    "    print(f\"✅ Downloaded {len(data)} daily rates for {symbol}\")\n",
    "    return data\n",
    "\n",
    "\n",
    "def convert_to_usd(df, currency, exchange_rates):\n",
    "    \"\"\"Merge exchange rates and convert values to USD.\"\"\"\n",
    "    df['Date'] = pd.to_datetime(df['Date']).dt.tz_localize(None)\n",
    "    exchange_rates['Date'] = pd.to_datetime(exchange_rates['Date']).dt.tz_localize(None)\n",
    "\n",
    "    merged = df.merge(exchange_rates, on='Date', how='left')\n",
    "\n",
    "    if merged['Rate_to_USD'].isna().any():\n",
    "        print(f\"⚠️ Missing rates detected for {currency}, filling forward/backward.\")\n",
    "        merged['Rate_to_USD'].ffill(inplace=True)\n",
    "        merged['Rate_to_USD'].bfill(inplace=True)\n",
    "\n",
    "    merged['Value_USD'] = merged['Value'] * merged['Rate_to_USD']\n",
    "    return merged[['Date', 'Value_USD']]\n"
   ]
  },
  {
   "cell_type": "markdown",
   "metadata": {
    "id": "D2emYaNQY4DM"
   },
   "source": [
    "Once all the prices are  in USD, proceed to adjust the values for the inflation index using the CPI (Consumer Price Index) from the FRED."
   ]
  },
  {
   "cell_type": "code",
   "execution_count": null,
   "metadata": {
    "id": "gHvqLEQqZSAL"
   },
   "outputs": [],
   "source": [
    "def get_inflation_index(start_date, end_date):\n",
    "    \"\"\"Fetch daily interpolated US CPI from FRED and clean NaNs.\"\"\"\n",
    "    try:\n",
    "        cpi = DataReader('CPIAUCNS', 'fred', start_date - pd.DateOffset(days=31), end_date)\n",
    "    except Exception as e:\n",
    "        print(\"FRED CPI fetch failed:\", e)\n",
    "        return pd.DataFrame({'Date': pd.date_range(start=start_date, end=end_date), 'CPI_USD': np.nan})\n",
    "\n",
    "    cpi = cpi.reset_index().rename(columns={'DATE': 'Date', 'CPIAUCNS': 'CPI_USD'})\n",
    "    cpi['Date'] = pd.to_datetime(cpi['Date'])\n",
    "\n",
    "    daily_index = pd.DataFrame({'Date': pd.date_range(start=start_date, end=end_date)})\n",
    "\n",
    "    daily_index = pd.merge_asof(daily_index.sort_values('Date'),\n",
    "                                cpi.sort_values('Date'),\n",
    "                                on='Date',\n",
    "                                direction='backward')\n",
    "\n",
    "    daily_index['CPI_USD'] = daily_index['CPI_USD'].ffill().bfill().interpolate(method='linear')\n",
    "\n",
    "    # Drop if still NaN\n",
    "    if daily_index['CPI_USD'].isna().all():\n",
    "        print(\"All CPI_USD values are NaN. Inflation adjustment skipped.\")\n",
    "    return daily_index\n",
    "\n",
    "\n",
    "def adjust_for_inflation(df, inflation_index):\n",
    "    if inflation_index['CPI_USD'].isna().all():\n",
    "        df['Value_Adj_USD'] = df['Value_USD']\n",
    "        return df[['Date','Value_Adj_USD']]\n",
    "\n",
    "    df['Date'] = pd.to_datetime(df['Date']).dt.tz_localize(None)\n",
    "    inflation_index['Date'] = pd.to_datetime(inflation_index['Date']).dt.tz_localize(None)\n",
    "    merged = df.merge(inflation_index, on='Date', how='left')\n",
    "\n",
    "    # Normalize to today CPI\n",
    "    latest_cpi = inflation_index['CPI_USD'].iloc[-1]\n",
    "    merged['Value_Adj_USD'] = merged['Value_USD'] * (latest_cpi / merged['CPI_USD'])\n",
    "    return merged[['Date','Value_Adj_USD']]\n"
   ]
  },
  {
   "cell_type": "markdown",
   "metadata": {
    "id": "eTOOISKPZXXH"
   },
   "source": [
    "Final steps, running the CHI^2 test and p values for the systemic dislocation of the market"
   ]
  },
  {
   "cell_type": "code",
   "execution_count": null,
   "metadata": {
    "id": "k4Foxr8HaaTu"
   },
   "outputs": [],
   "source": [
    "def chi2_systemic_dislocation(df, bins=10):\n",
    "    from scipy.stats import norm\n",
    "\n",
    "    df['Return'] = df['Value_Adj_USD'].pct_change()\n",
    "    df['Dislocation'] = (df['Return'] - df['Return'].mean()) / df['Return'].std()\n",
    "\n",
    "    disloc = df['Dislocation'].dropna()\n",
    "\n",
    "    quantiles = np.linspace(0, 1, bins + 1)\n",
    "    bin_edges = norm.ppf(quantiles)\n",
    "\n",
    "    observed, _ = np.histogram(disloc, bins=bin_edges)\n",
    "    expected = np.ones_like(observed) * (len(disloc) / bins)\n",
    "\n",
    "    chi2_stat = ((observed - expected)**2 / expected).sum()\n",
    "    p_val = 1 - chi2.cdf(chi2_stat, df=bins - 1)\n",
    "\n",
    "    return df, chi2_stat, p_val"
   ]
  },
  {
   "cell_type": "markdown",
   "metadata": {
    "id": "QBaNlQz-afKE"
   },
   "source": [
    "This final function calls upon all the pprevious functions once received in imput the raw asset file, outputting a list containing the return adjusted in USD and for inflation, as well as the dislocation from the market values."
   ]
  },
  {
   "cell_type": "code",
   "execution_count": null,
   "metadata": {
    "id": "LXPVkAepD8hB"
   },
   "outputs": [],
   "source": [
    "\n",
    "\n",
    "def process_asset_file(asset_file):\n",
    "    global market_info\n",
    "\n",
    "    df = pd.read_csv(asset_file)\n",
    "    df.columns = df.columns.str.strip()\n",
    "\n",
    "    # rename lowercase headers to match the rest of your code\n",
    "    rename_map = {\n",
    "        'date': 'Date',\n",
    "        'open': 'Open',\n",
    "        'high': 'High',\n",
    "        'low': 'Low',\n",
    "        'close': 'Close',\n",
    "        'adjclose': 'Adj Close',\n",
    "        'volume': 'Volume'\n",
    "    }\n",
    "    df.rename(columns=rename_map, inplace=True)\n",
    "\n",
    "    if \"Date\" not in df.columns:\n",
    "        raise KeyError(f\"'Date' column not found in {asset_file}. Columns: {df.columns.tolist()}\")\n",
    "\n",
    "    df['Date'] = pd.to_datetime(df['Date'], errors='coerce')\n",
    "    df['Value'] = df['Adj Close']\n",
    "\n",
    "    asset_name = asset_file.split('/')[-1].replace('.csv', '')\n",
    "    market_info = market_info.rename(columns={'symbol (acronym)': 'Asset'})#############\n",
    "\n",
    "    currency = market_info.loc[market_info['Asset'] == asset_name, 'Currency'].values[0]\n",
    "\n",
    "    market_info.loc[market_info['Asset'] == 'ABB', 'Currency'] = 'CHF'##############\n",
    "\n",
    "    start_date = df['Date'].min() - timedelta(days=1)\n",
    "    end_date = df['Date'].max() + timedelta(days=1)\n",
    "\n",
    "    print(\"Asset:\", asset_name, \"Currency:\", currency)################\n",
    "\n",
    "    exchange_rates = get_exchange_rate(currency, start_date, end_date)\n",
    "    inflation_index = get_inflation_index(start_date, end_date)\n",
    "\n",
    "    df_usd = convert_to_usd(df, currency, exchange_rates)\n",
    "    df_real = adjust_for_inflation(df_usd, inflation_index)\n",
    "\n",
    "    df_chi, chi2_stat, p_val = chi2_systemic_dislocation(df_real)\n",
    "    return df_chi, chi2_stat, p_val\n",
    "\n"
   ]
  },
  {
   "cell_type": "code",
   "execution_count": null,
   "metadata": {},
   "outputs": [],
   "source": [
    "#my testing\n",
    "# print(market_info.columns.tolist())\n",
    "\n",
    "\n",
    "\n",
    "# df = pd.read_csv(\"ABB.csv\")\n",
    "# print(df.columns.tolist())\n",
    "\n",
    "\n"
   ]
  },
  {
   "cell_type": "markdown",
   "metadata": {
    "id": "4O0585j-bWt-"
   },
   "source": [
    "This last bit is for testing, inputting one file at a time"
   ]
  },
  {
   "cell_type": "code",
   "execution_count": null,
   "metadata": {
    "colab": {
     "base_uri": "https://localhost:8080/"
    },
    "id": "oLP1HuaibigL",
    "outputId": "82a53df4-e4ec-4fc8-8fca-db6ab6b23247"
   },
   "outputs": [],
   "source": [
    "df_chi, chi2_stat, p_val = process_asset_file(\"ABB.csv\")\n",
    "print(df_chi.head())\n",
    "print(df_chi.tail())\n",
    "print(f\"Chi² statistic: {chi2_stat:.4f}, p-value: {p_val:.4f}\")"
   ]
  },
  {
   "cell_type": "markdown",
   "metadata": {
    "id": "VBjdiVLRtqte"
   },
   "source": []
  }
 ],
 "metadata": {
  "colab": {
   "provenance": []
  },
  "kernelspec": {
   "display_name": "Python 3",
   "name": "python3"
  },
  "language_info": {
   "codemirror_mode": {
    "name": "ipython",
    "version": 3
   },
   "file_extension": ".py",
   "mimetype": "text/x-python",
   "name": "python",
   "nbconvert_exporter": "python",
   "pygments_lexer": "ipython3",
   "version": "3.13.2"
  }
 },
 "nbformat": 4,
 "nbformat_minor": 0
}
